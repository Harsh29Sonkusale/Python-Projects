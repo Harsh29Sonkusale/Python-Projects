{
 "cells": [
  {
   "cell_type": "code",
   "execution_count": null,
   "id": "e34d3bb3-7791-4abe-b798-e114ead4c13e",
   "metadata": {},
   "outputs": [
    {
     "name": "stdout",
     "output_type": "stream",
     "text": [
      "\n",
      "=== Expense Tracker ===\n",
      "1. Add Entry (Income/Expense)\n",
      "2. View All Entries\n",
      "3. Update Entry\n",
      "4. Delete Entry\n",
      "5. Exit Expense Tracker\n"
     ]
    },
    {
     "name": "stdin",
     "output_type": "stream",
     "text": [
      "Enter your choice:  2\n"
     ]
    },
    {
     "name": "stdout",
     "output_type": "stream",
     "text": [
      "\n",
      " All Expenses & Income:\n",
      "\n",
      "Entry 1\n",
      "Amount  : ₹25000.0\n",
      "Category: Salary\n",
      "Type    : Income\n",
      "Date    : 2025-07-01\n",
      "\n",
      "Entry 2\n",
      "Amount  : ₹1200.0\n",
      "Category: Travel Fuel\n",
      "Type    : Expense\n",
      "Date    : 2025-07-20\n",
      "\n",
      "Entry 3\n",
      "Amount  : ₹3000.0\n",
      "Category: Food\n",
      "Type    : Expense\n",
      "Date    : 2025-07-21\n",
      "\n",
      "Entry 4\n",
      "Amount  : ₹350.0\n",
      "Category: Electric Bill\n",
      "Type    : Expense\n",
      "Date    : 2025-07-24\n",
      "\n",
      " Summary:\n",
      "Total Income : ₹25000.0\n",
      "Total Expense: ₹4550.0\n",
      "Net Balance  : ₹20450.0\n",
      "\n",
      "=== Expense Tracker ===\n",
      "1. Add Entry (Income/Expense)\n",
      "2. View All Entries\n",
      "3. Update Entry\n",
      "4. Delete Entry\n",
      "5. Exit Expense Tracker\n"
     ]
    },
    {
     "name": "stdin",
     "output_type": "stream",
     "text": [
      "Enter your choice:  1\n",
      "Enter amount:  45000\n",
      "Enter category (e.g. Food, Rent, Salary):  Salary\n",
      "Type (Income/Expense):  Income\n",
      "Enter date (YYYY-MM-DD):  2025-07-10\n"
     ]
    },
    {
     "name": "stdout",
     "output_type": "stream",
     "text": [
      " Entry added successfully!\n",
      "\n",
      "=== Expense Tracker ===\n",
      "1. Add Entry (Income/Expense)\n",
      "2. View All Entries\n",
      "3. Update Entry\n",
      "4. Delete Entry\n",
      "5. Exit Expense Tracker\n"
     ]
    },
    {
     "name": "stdin",
     "output_type": "stream",
     "text": [
      "Enter your choice:  1\n",
      "Enter amount:  5000\n",
      "Enter category (e.g. Food, Rent, Salary):  Food\n",
      "Type (Income/Expense):  Expense\n",
      "Enter date (YYYY-MM-DD):  2025-07-29\n"
     ]
    },
    {
     "name": "stdout",
     "output_type": "stream",
     "text": [
      " Entry added successfully!\n",
      "\n",
      "=== Expense Tracker ===\n",
      "1. Add Entry (Income/Expense)\n",
      "2. View All Entries\n",
      "3. Update Entry\n",
      "4. Delete Entry\n",
      "5. Exit Expense Tracker\n"
     ]
    },
    {
     "name": "stdin",
     "output_type": "stream",
     "text": [
      "Enter your choice:  2\n"
     ]
    },
    {
     "name": "stdout",
     "output_type": "stream",
     "text": [
      "\n",
      " All Expenses & Income:\n",
      "\n",
      "Entry 1\n",
      "Amount  : ₹25000.0\n",
      "Category: Salary\n",
      "Type    : Income\n",
      "Date    : 2025-07-01\n",
      "\n",
      "Entry 2\n",
      "Amount  : ₹1200.0\n",
      "Category: Travel Fuel\n",
      "Type    : Expense\n",
      "Date    : 2025-07-20\n",
      "\n",
      "Entry 3\n",
      "Amount  : ₹3000.0\n",
      "Category: Food\n",
      "Type    : Expense\n",
      "Date    : 2025-07-21\n",
      "\n",
      "Entry 4\n",
      "Amount  : ₹350.0\n",
      "Category: Electric Bill\n",
      "Type    : Expense\n",
      "Date    : 2025-07-24\n",
      "\n",
      "Entry 5\n",
      "Amount  : ₹45000.0\n",
      "Category: Salary\n",
      "Type    : Income\n",
      "Date    : 2025-07-10\n",
      "\n",
      "Entry 6\n",
      "Amount  : ₹5000.0\n",
      "Category: Food\n",
      "Type    : Expense\n",
      "Date    : 2025-07-29\n",
      "\n",
      " Summary:\n",
      "Total Income : ₹70000.0\n",
      "Total Expense: ₹9550.0\n",
      "Net Balance  : ₹60450.0\n",
      "\n",
      "=== Expense Tracker ===\n",
      "1. Add Entry (Income/Expense)\n",
      "2. View All Entries\n",
      "3. Update Entry\n",
      "4. Delete Entry\n",
      "5. Exit Expense Tracker\n"
     ]
    },
    {
     "name": "stdin",
     "output_type": "stream",
     "text": [
      "Enter your choice:  3\n"
     ]
    },
    {
     "name": "stdout",
     "output_type": "stream",
     "text": [
      "\n",
      " All Expenses & Income:\n",
      "\n",
      "Entry 1\n",
      "Amount  : ₹25000.0\n",
      "Category: Salary\n",
      "Type    : Income\n",
      "Date    : 2025-07-01\n",
      "\n",
      "Entry 2\n",
      "Amount  : ₹1200.0\n",
      "Category: Travel Fuel\n",
      "Type    : Expense\n",
      "Date    : 2025-07-20\n",
      "\n",
      "Entry 3\n",
      "Amount  : ₹3000.0\n",
      "Category: Food\n",
      "Type    : Expense\n",
      "Date    : 2025-07-21\n",
      "\n",
      "Entry 4\n",
      "Amount  : ₹350.0\n",
      "Category: Electric Bill\n",
      "Type    : Expense\n",
      "Date    : 2025-07-24\n",
      "\n",
      "Entry 5\n",
      "Amount  : ₹45000.0\n",
      "Category: Salary\n",
      "Type    : Income\n",
      "Date    : 2025-07-10\n",
      "\n",
      "Entry 6\n",
      "Amount  : ₹5000.0\n",
      "Category: Food\n",
      "Type    : Expense\n",
      "Date    : 2025-07-29\n",
      "\n",
      " Summary:\n",
      "Total Income : ₹70000.0\n",
      "Total Expense: ₹9550.0\n",
      "Net Balance  : ₹60450.0\n"
     ]
    },
    {
     "name": "stdin",
     "output_type": "stream",
     "text": [
      "\n",
      "Enter entry number to update:  1\n"
     ]
    },
    {
     "name": "stdout",
     "output_type": "stream",
     "text": [
      "Leave blank to keep existing values.\n"
     ]
    },
    {
     "name": "stdin",
     "output_type": "stream",
     "text": [
      "New amount:  3\n",
      "New category:  2\n",
      "New type (Income/Expense):  3\n",
      "New date (YYYY-MM-DD):  3\n"
     ]
    },
    {
     "name": "stdout",
     "output_type": "stream",
     "text": [
      " Invalid date format. Skipping date update.\n",
      " Entry updated successfully!\n",
      "\n",
      "=== Expense Tracker ===\n",
      "1. Add Entry (Income/Expense)\n",
      "2. View All Entries\n",
      "3. Update Entry\n",
      "4. Delete Entry\n",
      "5. Exit Expense Tracker\n"
     ]
    },
    {
     "name": "stdin",
     "output_type": "stream",
     "text": [
      "Enter your choice:  3\n"
     ]
    },
    {
     "name": "stdout",
     "output_type": "stream",
     "text": [
      "\n",
      " All Expenses & Income:\n",
      "\n",
      "Entry 1\n",
      "Amount  : ₹3.0\n",
      "Category: 2\n",
      "Type    : Income\n",
      "Date    : 2025-07-01\n",
      "\n",
      "Entry 2\n",
      "Amount  : ₹1200.0\n",
      "Category: Travel Fuel\n",
      "Type    : Expense\n",
      "Date    : 2025-07-20\n",
      "\n",
      "Entry 3\n",
      "Amount  : ₹3000.0\n",
      "Category: Food\n",
      "Type    : Expense\n",
      "Date    : 2025-07-21\n",
      "\n",
      "Entry 4\n",
      "Amount  : ₹350.0\n",
      "Category: Electric Bill\n",
      "Type    : Expense\n",
      "Date    : 2025-07-24\n",
      "\n",
      "Entry 5\n",
      "Amount  : ₹45000.0\n",
      "Category: Salary\n",
      "Type    : Income\n",
      "Date    : 2025-07-10\n",
      "\n",
      "Entry 6\n",
      "Amount  : ₹5000.0\n",
      "Category: Food\n",
      "Type    : Expense\n",
      "Date    : 2025-07-29\n",
      "\n",
      " Summary:\n",
      "Total Income : ₹45003.0\n",
      "Total Expense: ₹9550.0\n",
      "Net Balance  : ₹35453.0\n"
     ]
    },
    {
     "name": "stdin",
     "output_type": "stream",
     "text": [
      "\n",
      "Enter entry number to update:  1\n"
     ]
    },
    {
     "name": "stdout",
     "output_type": "stream",
     "text": [
      "Leave blank to keep existing values.\n"
     ]
    },
    {
     "name": "stdin",
     "output_type": "stream",
     "text": [
      "New amount:  4\n",
      "New category:  Electric Bill\n",
      "New type (Income/Expense):  Income\n",
      "New date (YYYY-MM-DD):  2025-07-25\n"
     ]
    },
    {
     "name": "stdout",
     "output_type": "stream",
     "text": [
      " Entry updated successfully!\n",
      "\n",
      "=== Expense Tracker ===\n",
      "1. Add Entry (Income/Expense)\n",
      "2. View All Entries\n",
      "3. Update Entry\n",
      "4. Delete Entry\n",
      "5. Exit Expense Tracker\n"
     ]
    },
    {
     "name": "stdin",
     "output_type": "stream",
     "text": [
      "Enter your choice:  4\n"
     ]
    },
    {
     "name": "stdout",
     "output_type": "stream",
     "text": [
      "\n",
      " All Expenses & Income:\n",
      "\n",
      "Entry 1\n",
      "Amount  : ₹4.0\n",
      "Category: Electric Bill\n",
      "Type    : Income\n",
      "Date    : 2025-07-25\n",
      "\n",
      "Entry 2\n",
      "Amount  : ₹1200.0\n",
      "Category: Travel Fuel\n",
      "Type    : Expense\n",
      "Date    : 2025-07-20\n",
      "\n",
      "Entry 3\n",
      "Amount  : ₹3000.0\n",
      "Category: Food\n",
      "Type    : Expense\n",
      "Date    : 2025-07-21\n",
      "\n",
      "Entry 4\n",
      "Amount  : ₹350.0\n",
      "Category: Electric Bill\n",
      "Type    : Expense\n",
      "Date    : 2025-07-24\n",
      "\n",
      "Entry 5\n",
      "Amount  : ₹45000.0\n",
      "Category: Salary\n",
      "Type    : Income\n",
      "Date    : 2025-07-10\n",
      "\n",
      "Entry 6\n",
      "Amount  : ₹5000.0\n",
      "Category: Food\n",
      "Type    : Expense\n",
      "Date    : 2025-07-29\n",
      "\n",
      " Summary:\n",
      "Total Income : ₹45004.0\n",
      "Total Expense: ₹9550.0\n",
      "Net Balance  : ₹35454.0\n"
     ]
    },
    {
     "name": "stdin",
     "output_type": "stream",
     "text": [
      "\n",
      "Enter entry number to delete:  1\n"
     ]
    },
    {
     "name": "stdout",
     "output_type": "stream",
     "text": [
      " Deleted entry for ₹4.0 in category Electric Bill\n",
      "\n",
      "=== Expense Tracker ===\n",
      "1. Add Entry (Income/Expense)\n",
      "2. View All Entries\n",
      "3. Update Entry\n",
      "4. Delete Entry\n",
      "5. Exit Expense Tracker\n"
     ]
    },
    {
     "name": "stdin",
     "output_type": "stream",
     "text": [
      "Enter your choice:  4\n"
     ]
    },
    {
     "name": "stdout",
     "output_type": "stream",
     "text": [
      "\n",
      " All Expenses & Income:\n",
      "\n",
      "Entry 1\n",
      "Amount  : ₹1200.0\n",
      "Category: Travel Fuel\n",
      "Type    : Expense\n",
      "Date    : 2025-07-20\n",
      "\n",
      "Entry 2\n",
      "Amount  : ₹3000.0\n",
      "Category: Food\n",
      "Type    : Expense\n",
      "Date    : 2025-07-21\n",
      "\n",
      "Entry 3\n",
      "Amount  : ₹350.0\n",
      "Category: Electric Bill\n",
      "Type    : Expense\n",
      "Date    : 2025-07-24\n",
      "\n",
      "Entry 4\n",
      "Amount  : ₹45000.0\n",
      "Category: Salary\n",
      "Type    : Income\n",
      "Date    : 2025-07-10\n",
      "\n",
      "Entry 5\n",
      "Amount  : ₹5000.0\n",
      "Category: Food\n",
      "Type    : Expense\n",
      "Date    : 2025-07-29\n",
      "\n",
      " Summary:\n",
      "Total Income : ₹45000.0\n",
      "Total Expense: ₹9550.0\n",
      "Net Balance  : ₹35450.0\n"
     ]
    },
    {
     "name": "stdin",
     "output_type": "stream",
     "text": [
      "\n",
      "Enter entry number to delete:  1\n"
     ]
    },
    {
     "name": "stdout",
     "output_type": "stream",
     "text": [
      " Deleted entry for ₹1200.0 in category Travel Fuel\n",
      "\n",
      "=== Expense Tracker ===\n",
      "1. Add Entry (Income/Expense)\n",
      "2. View All Entries\n",
      "3. Update Entry\n",
      "4. Delete Entry\n",
      "5. Exit Expense Tracker\n"
     ]
    },
    {
     "name": "stdin",
     "output_type": "stream",
     "text": [
      "Enter your choice:  4\n"
     ]
    },
    {
     "name": "stdout",
     "output_type": "stream",
     "text": [
      "\n",
      " All Expenses & Income:\n",
      "\n",
      "Entry 1\n",
      "Amount  : ₹3000.0\n",
      "Category: Food\n",
      "Type    : Expense\n",
      "Date    : 2025-07-21\n",
      "\n",
      "Entry 2\n",
      "Amount  : ₹350.0\n",
      "Category: Electric Bill\n",
      "Type    : Expense\n",
      "Date    : 2025-07-24\n",
      "\n",
      "Entry 3\n",
      "Amount  : ₹45000.0\n",
      "Category: Salary\n",
      "Type    : Income\n",
      "Date    : 2025-07-10\n",
      "\n",
      "Entry 4\n",
      "Amount  : ₹5000.0\n",
      "Category: Food\n",
      "Type    : Expense\n",
      "Date    : 2025-07-29\n",
      "\n",
      " Summary:\n",
      "Total Income : ₹45000.0\n",
      "Total Expense: ₹8350.0\n",
      "Net Balance  : ₹36650.0\n"
     ]
    },
    {
     "name": "stdin",
     "output_type": "stream",
     "text": [
      "\n",
      "Enter entry number to delete:  1\n"
     ]
    },
    {
     "name": "stdout",
     "output_type": "stream",
     "text": [
      " Deleted entry for ₹3000.0 in category Food\n",
      "\n",
      "=== Expense Tracker ===\n",
      "1. Add Entry (Income/Expense)\n",
      "2. View All Entries\n",
      "3. Update Entry\n",
      "4. Delete Entry\n",
      "5. Exit Expense Tracker\n"
     ]
    },
    {
     "name": "stdin",
     "output_type": "stream",
     "text": [
      "Enter your choice:  4\n"
     ]
    },
    {
     "name": "stdout",
     "output_type": "stream",
     "text": [
      "\n",
      " All Expenses & Income:\n",
      "\n",
      "Entry 1\n",
      "Amount  : ₹350.0\n",
      "Category: Electric Bill\n",
      "Type    : Expense\n",
      "Date    : 2025-07-24\n",
      "\n",
      "Entry 2\n",
      "Amount  : ₹45000.0\n",
      "Category: Salary\n",
      "Type    : Income\n",
      "Date    : 2025-07-10\n",
      "\n",
      "Entry 3\n",
      "Amount  : ₹5000.0\n",
      "Category: Food\n",
      "Type    : Expense\n",
      "Date    : 2025-07-29\n",
      "\n",
      " Summary:\n",
      "Total Income : ₹45000.0\n",
      "Total Expense: ₹5350.0\n",
      "Net Balance  : ₹39650.0\n"
     ]
    },
    {
     "name": "stdin",
     "output_type": "stream",
     "text": [
      "\n",
      "Enter entry number to delete:  1\n"
     ]
    },
    {
     "name": "stdout",
     "output_type": "stream",
     "text": [
      " Deleted entry for ₹350.0 in category Electric Bill\n",
      "\n",
      "=== Expense Tracker ===\n",
      "1. Add Entry (Income/Expense)\n",
      "2. View All Entries\n",
      "3. Update Entry\n",
      "4. Delete Entry\n",
      "5. Exit Expense Tracker\n"
     ]
    },
    {
     "name": "stdin",
     "output_type": "stream",
     "text": [
      "Enter your choice:  4\n"
     ]
    },
    {
     "name": "stdout",
     "output_type": "stream",
     "text": [
      "\n",
      " All Expenses & Income:\n",
      "\n",
      "Entry 1\n",
      "Amount  : ₹45000.0\n",
      "Category: Salary\n",
      "Type    : Income\n",
      "Date    : 2025-07-10\n",
      "\n",
      "Entry 2\n",
      "Amount  : ₹5000.0\n",
      "Category: Food\n",
      "Type    : Expense\n",
      "Date    : 2025-07-29\n",
      "\n",
      " Summary:\n",
      "Total Income : ₹45000.0\n",
      "Total Expense: ₹5000.0\n",
      "Net Balance  : ₹40000.0\n"
     ]
    },
    {
     "name": "stdin",
     "output_type": "stream",
     "text": [
      "\n",
      "Enter entry number to delete:  1\n"
     ]
    },
    {
     "name": "stdout",
     "output_type": "stream",
     "text": [
      " Deleted entry for ₹45000.0 in category Salary\n",
      "\n",
      "=== Expense Tracker ===\n",
      "1. Add Entry (Income/Expense)\n",
      "2. View All Entries\n",
      "3. Update Entry\n",
      "4. Delete Entry\n",
      "5. Exit Expense Tracker\n"
     ]
    },
    {
     "name": "stdin",
     "output_type": "stream",
     "text": [
      "Enter your choice:  2\n"
     ]
    },
    {
     "name": "stdout",
     "output_type": "stream",
     "text": [
      "\n",
      " All Expenses & Income:\n",
      "\n",
      "Entry 1\n",
      "Amount  : ₹5000.0\n",
      "Category: Food\n",
      "Type    : Expense\n",
      "Date    : 2025-07-29\n",
      "\n",
      " Summary:\n",
      "Total Income : ₹0\n",
      "Total Expense: ₹5000.0\n",
      "Net Balance  : ₹-5000.0\n",
      "\n",
      "=== Expense Tracker ===\n",
      "1. Add Entry (Income/Expense)\n",
      "2. View All Entries\n",
      "3. Update Entry\n",
      "4. Delete Entry\n",
      "5. Exit Expense Tracker\n"
     ]
    },
    {
     "name": "stdin",
     "output_type": "stream",
     "text": [
      "Enter your choice:  4\n"
     ]
    },
    {
     "name": "stdout",
     "output_type": "stream",
     "text": [
      "\n",
      " All Expenses & Income:\n",
      "\n",
      "Entry 1\n",
      "Amount  : ₹5000.0\n",
      "Category: Food\n",
      "Type    : Expense\n",
      "Date    : 2025-07-29\n",
      "\n",
      " Summary:\n",
      "Total Income : ₹0\n",
      "Total Expense: ₹5000.0\n",
      "Net Balance  : ₹-5000.0\n"
     ]
    },
    {
     "name": "stdin",
     "output_type": "stream",
     "text": [
      "\n",
      "Enter entry number to delete:  1\n"
     ]
    },
    {
     "name": "stdout",
     "output_type": "stream",
     "text": [
      " Deleted entry for ₹5000.0 in category Food\n",
      "\n",
      "=== Expense Tracker ===\n",
      "1. Add Entry (Income/Expense)\n",
      "2. View All Entries\n",
      "3. Update Entry\n",
      "4. Delete Entry\n",
      "5. Exit Expense Tracker\n"
     ]
    },
    {
     "name": "stdin",
     "output_type": "stream",
     "text": [
      "Enter your choice:  1\n",
      "Enter amount:  45000\n",
      "Enter category (e.g. Food, Rent, Salary):  Salaray\n",
      "Type (Income/Expense):  Income\n",
      "Enter date (YYYY-MM-DD):  2025-07-10\n"
     ]
    },
    {
     "name": "stdout",
     "output_type": "stream",
     "text": [
      " Entry added successfully!\n",
      "\n",
      "=== Expense Tracker ===\n",
      "1. Add Entry (Income/Expense)\n",
      "2. View All Entries\n",
      "3. Update Entry\n",
      "4. Delete Entry\n",
      "5. Exit Expense Tracker\n"
     ]
    },
    {
     "name": "stdin",
     "output_type": "stream",
     "text": [
      "Enter your choice:  1\n",
      "Enter amount:  5000\n",
      "Enter category (e.g. Food, Rent, Salary):  Food\n",
      "Type (Income/Expense):  Expense\n",
      "Enter date (YYYY-MM-DD):  2025-07-29\n"
     ]
    },
    {
     "name": "stdout",
     "output_type": "stream",
     "text": [
      " Entry added successfully!\n",
      "\n",
      "=== Expense Tracker ===\n",
      "1. Add Entry (Income/Expense)\n",
      "2. View All Entries\n",
      "3. Update Entry\n",
      "4. Delete Entry\n",
      "5. Exit Expense Tracker\n"
     ]
    },
    {
     "name": "stdin",
     "output_type": "stream",
     "text": [
      "Enter your choice:  2\n"
     ]
    },
    {
     "name": "stdout",
     "output_type": "stream",
     "text": [
      "\n",
      " All Expenses & Income:\n",
      "\n",
      "Entry 1\n",
      "Amount  : ₹45000.0\n",
      "Category: Salaray\n",
      "Type    : Income\n",
      "Date    : 2025-07-10\n",
      "\n",
      "Entry 2\n",
      "Amount  : ₹5000.0\n",
      "Category: Food\n",
      "Type    : Expense\n",
      "Date    : 2025-07-29\n",
      "\n",
      " Summary:\n",
      "Total Income : ₹45000.0\n",
      "Total Expense: ₹5000.0\n",
      "Net Balance  : ₹40000.0\n",
      "\n",
      "=== Expense Tracker ===\n",
      "1. Add Entry (Income/Expense)\n",
      "2. View All Entries\n",
      "3. Update Entry\n",
      "4. Delete Entry\n",
      "5. Exit Expense Tracker\n"
     ]
    }
   ],
   "source": [
    "import os\n",
    "from datetime import datetime\n",
    "\n",
    "DATA_FILE = \"expenses.txt\"\n",
    "\n",
    "# Load expenses from .txt\n",
    "def load_expenses():\n",
    "    expenses = []\n",
    "    if not os.path.exists(DATA_FILE):\n",
    "        return expenses\n",
    "    with open(DATA_FILE, 'r') as f:\n",
    "        lines = f.readlines()\n",
    "        for line in lines:\n",
    "            parts = line.strip().split('|')\n",
    "            if len(parts) == 4:\n",
    "                expense = {\n",
    "                    \"amount\": float(parts[0]),\n",
    "                    \"category\": parts[1],\n",
    "                    \"type\": parts[2],\n",
    "                    \"date\": parts[3]\n",
    "                }\n",
    "                expenses.append(expense)\n",
    "    return expenses\n",
    "\n",
    "# Save expenses to .txt\n",
    "def save_expenses(expenses):\n",
    "    with open(DATA_FILE, 'w') as f:\n",
    "        for exp in expenses:\n",
    "            line = f\"{exp['amount']}|{exp['category']}|{exp['type']}|{exp['date']}\\n\"\n",
    "            f.write(line)\n",
    "\n",
    "# Add expense or income\n",
    "def add_expense():\n",
    "    try:\n",
    "        amount = float(input(\"Enter amount: \"))\n",
    "        category = input(\"Enter category (e.g. Food, Rent, Salary): \")\n",
    "        etype = input(\"Type (Income/Expense): \").capitalize()\n",
    "        date = input(\"Enter date (YYYY-MM-DD): \")\n",
    "\n",
    "        datetime.strptime(date, \"%Y-%m-%d\")  # Validate date\n",
    "\n",
    "        if etype not in [\"Income\", \"Expense\"]:\n",
    "            print(\" Type must be 'Income' or 'Expense'\")\n",
    "            return\n",
    "\n",
    "        expense = {\"amount\": amount, \"category\": category, \"type\": etype, \"date\": date}\n",
    "        expenses = load_expenses()\n",
    "        expenses.append(expense)\n",
    "        save_expenses(expenses)\n",
    "        print(\" Entry added successfully!\")\n",
    "\n",
    "    except ValueError:\n",
    "        print(\" Invalid input. Please enter proper numbers and date format.\")\n",
    "\n",
    "# View all entries\n",
    "def view_expenses():\n",
    "    expenses = load_expenses()\n",
    "    if not expenses:\n",
    "        print(\"No expense records found.\")\n",
    "        return\n",
    "\n",
    "    total_income = 0\n",
    "    total_expense = 0\n",
    "\n",
    "    print(\"\\n All Expenses & Income:\")\n",
    "    for i, exp in enumerate(expenses, start=1):\n",
    "        print(f\"\\nEntry {i}\")\n",
    "        print(f\"Amount  : ₹{exp['amount']}\")\n",
    "        print(f\"Category: {exp['category']}\")\n",
    "        print(f\"Type    : {exp['type']}\")\n",
    "        print(f\"Date    : {exp['date']}\")\n",
    "        if exp['type'] == \"Income\":\n",
    "            total_income += exp['amount']\n",
    "        else:\n",
    "            total_expense += exp['amount']\n",
    "\n",
    "    print(\"\\n Summary:\")\n",
    "    print(f\"Total Income : ₹{total_income}\")\n",
    "    print(f\"Total Expense: ₹{total_expense}\")\n",
    "    print(f\"Net Balance  : ₹{total_income - total_expense}\")\n",
    "\n",
    "# Update an entry\n",
    "def update_expense():\n",
    "    expenses = load_expenses()\n",
    "    if not expenses:\n",
    "        print(\"No data to update.\")\n",
    "        return\n",
    "\n",
    "    view_expenses()\n",
    "    try:\n",
    "        index = int(input(\"\\nEnter entry number to update: \")) - 1\n",
    "        if index < 0 or index >= len(expenses):\n",
    "            print(\"Invalid entry number.\")\n",
    "            return\n",
    "\n",
    "        print(\"Leave blank to keep existing values.\")\n",
    "        amount = input(\"New amount: \")\n",
    "        category = input(\"New category: \")\n",
    "        etype = input(\"New type (Income/Expense): \")\n",
    "        date = input(\"New date (YYYY-MM-DD): \")\n",
    "\n",
    "        if amount:\n",
    "            expenses[index][\"amount\"] = float(amount)\n",
    "        if category:\n",
    "            expenses[index][\"category\"] = category\n",
    "        if etype in [\"Income\", \"Expense\"]:\n",
    "            expenses[index][\"type\"] = etype\n",
    "        if date:\n",
    "            try:\n",
    "                datetime.strptime(date, \"%Y-%m-%d\")\n",
    "                expenses[index][\"date\"] = date\n",
    "            except:\n",
    "                print(\" Invalid date format. Skipping date update.\")\n",
    "\n",
    "        save_expenses(expenses)\n",
    "        print(\" Entry updated successfully!\")\n",
    "\n",
    "    except ValueError:\n",
    "        print(\" Invalid input.\")\n",
    "\n",
    "# Delete an entry\n",
    "def delete_expense():\n",
    "    expenses = load_expenses()\n",
    "    if not expenses:\n",
    "        print(\"No data to delete.\")\n",
    "        return\n",
    "\n",
    "    view_expenses()\n",
    "    try:\n",
    "        index = int(input(\"\\nEnter entry number to delete: \")) - 1\n",
    "        if index < 0 or index >= len(expenses):\n",
    "            print(\"Invalid entry number.\")\n",
    "            return\n",
    "\n",
    "        deleted = expenses.pop(index)\n",
    "        save_expenses(expenses)\n",
    "        print(f\" Deleted entry for ₹{deleted['amount']} in category {deleted['category']}\")\n",
    "\n",
    "    except ValueError:\n",
    "        print(\" Invalid input.\")\n",
    "\n",
    "# Expense Manager Menu\n",
    "def expense_menu():\n",
    "    while True:\n",
    "        print(\"\\n=== Expense Tracker ===\")\n",
    "        print(\"1. Add Entry (Income/Expense)\")\n",
    "        print(\"2. View All Entries\")\n",
    "        print(\"3. Update Entry\")\n",
    "        print(\"4. Delete Entry\")\n",
    "        print(\"5. Exit Expense Tracker\")\n",
    "\n",
    "        choice = input(\"Enter your choice: \")\n",
    "\n",
    "        if choice == \"1\":\n",
    "            add_expense()\n",
    "        elif choice == \"2\":\n",
    "            view_expenses()\n",
    "        elif choice == \"3\":\n",
    "            update_expense()\n",
    "        elif choice == \"4\":\n",
    "            delete_expense()\n",
    "        elif choice == \"5\":\n",
    "            print(\"Exiting Expense Tracker...\")\n",
    "            break\n",
    "        else:\n",
    "            print(\"Invalid choice. Please try again.\")\n",
    "\n",
    "# Run it\n",
    "expense_menu()\n"
   ]
  },
  {
   "cell_type": "code",
   "execution_count": null,
   "id": "a1001217-88cc-4a99-9468-ec0159b9a056",
   "metadata": {},
   "outputs": [],
   "source": []
  }
 ],
 "metadata": {
  "kernelspec": {
   "display_name": "Python [conda env:base] *",
   "language": "python",
   "name": "conda-base-py"
  },
  "language_info": {
   "codemirror_mode": {
    "name": "ipython",
    "version": 3
   },
   "file_extension": ".py",
   "mimetype": "text/x-python",
   "name": "python",
   "nbconvert_exporter": "python",
   "pygments_lexer": "ipython3",
   "version": "3.12.7"
  }
 },
 "nbformat": 4,
 "nbformat_minor": 5
}
