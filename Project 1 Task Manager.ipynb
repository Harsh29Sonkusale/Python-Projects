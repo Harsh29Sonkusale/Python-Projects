{
 "cells": [
  {
   "cell_type": "code",
   "execution_count": null,
   "id": "852f3c90-0abe-479f-a588-128cc31fd73a",
   "metadata": {},
   "outputs": [
    {
     "name": "stdout",
     "output_type": "stream",
     "text": [
      "\n",
      "=== Task Manager ===\n",
      "1. Add Task\n",
      "2. View Tasks\n",
      "3. Update Task\n",
      "4. Delete Task\n",
      "5. Exit Task Manager\n"
     ]
    },
    {
     "name": "stdin",
     "output_type": "stream",
     "text": [
      "Enter your choice:  \n"
     ]
    },
    {
     "name": "stdout",
     "output_type": "stream",
     "text": [
      "Invalid choice. Please try again.\n",
      "\n",
      "=== Task Manager ===\n",
      "1. Add Task\n",
      "2. View Tasks\n",
      "3. Update Task\n",
      "4. Delete Task\n",
      "5. Exit Task Manager\n"
     ]
    },
    {
     "name": "stdin",
     "output_type": "stream",
     "text": [
      "Enter your choice:  Medical Ass\n"
     ]
    },
    {
     "name": "stdout",
     "output_type": "stream",
     "text": [
      "Invalid choice. Please try again.\n",
      "\n",
      "=== Task Manager ===\n",
      "1. Add Task\n",
      "2. View Tasks\n",
      "3. Update Task\n",
      "4. Delete Task\n",
      "5. Exit Task Manager\n"
     ]
    },
    {
     "name": "stdin",
     "output_type": "stream",
     "text": [
      "Enter your choice:  1\n",
      "Enter task title:  Medical \n",
      "Enter due date (YYYY-MM-DD):  2025-08-05\n"
     ]
    },
    {
     "name": "stdout",
     "output_type": "stream",
     "text": [
      " Task added successfully!\n",
      "\n",
      "=== Task Manager ===\n",
      "1. Add Task\n",
      "2. View Tasks\n",
      "3. Update Task\n",
      "4. Delete Task\n",
      "5. Exit Task Manager\n"
     ]
    },
    {
     "name": "stdin",
     "output_type": "stream",
     "text": [
      "Enter your choice:  2\n"
     ]
    },
    {
     "name": "stdout",
     "output_type": "stream",
     "text": [
      "\n",
      " Your Tasks:\n",
      "\n",
      "Task 1\n",
      "Title    : Genetics Assignments\n",
      "Due Date : 2025-08-05\n",
      "Status   : Pending\n",
      "\n",
      "Task 2\n",
      "Title    : Medical \n",
      "Due Date : 2025-08-05\n",
      "Status   : Pending\n",
      "\n",
      "=== Task Manager ===\n",
      "1. Add Task\n",
      "2. View Tasks\n",
      "3. Update Task\n",
      "4. Delete Task\n",
      "5. Exit Task Manager\n"
     ]
    },
    {
     "name": "stdin",
     "output_type": "stream",
     "text": [
      "Enter your choice:  3\n"
     ]
    },
    {
     "name": "stdout",
     "output_type": "stream",
     "text": [
      "\n",
      " Your Tasks:\n",
      "\n",
      "Task 1\n",
      "Title    : Genetics Assignments\n",
      "Due Date : 2025-08-05\n",
      "Status   : Pending\n",
      "\n",
      "Task 2\n",
      "Title    : Medical \n",
      "Due Date : 2025-08-05\n",
      "Status   : Pending\n"
     ]
    },
    {
     "name": "stdin",
     "output_type": "stream",
     "text": [
      "Enter task number to update:  2\n"
     ]
    },
    {
     "name": "stdout",
     "output_type": "stream",
     "text": [
      "Leave blank if no change.\n"
     ]
    },
    {
     "name": "stdin",
     "output_type": "stream",
     "text": [
      "New title:  Medical \n",
      "New due date (YYYY-MM-DD):  2025-08-05\n",
      "New status (Pending/Done):  Done\n"
     ]
    },
    {
     "name": "stdout",
     "output_type": "stream",
     "text": [
      " Task updated successfully!\n",
      "\n",
      "=== Task Manager ===\n",
      "1. Add Task\n",
      "2. View Tasks\n",
      "3. Update Task\n",
      "4. Delete Task\n",
      "5. Exit Task Manager\n"
     ]
    },
    {
     "name": "stdin",
     "output_type": "stream",
     "text": [
      "Enter your choice:  2\n"
     ]
    },
    {
     "name": "stdout",
     "output_type": "stream",
     "text": [
      "\n",
      " Your Tasks:\n",
      "\n",
      "Task 1\n",
      "Title    : Genetics Assignments\n",
      "Due Date : 2025-08-05\n",
      "Status   : Pending\n",
      "\n",
      "Task 2\n",
      "Title    : Medical \n",
      "Due Date : 2025-08-05\n",
      "Status   : Done\n",
      "\n",
      "=== Task Manager ===\n",
      "1. Add Task\n",
      "2. View Tasks\n",
      "3. Update Task\n",
      "4. Delete Task\n",
      "5. Exit Task Manager\n"
     ]
    }
   ],
   "source": [
    "import os\n",
    "from datetime import datetime\n",
    "\n",
    "DATA_FILE = \"tasks.txt\"\n",
    "\n",
    "# Load all tasks from .txt\n",
    "def load_tasks():\n",
    "    tasks = []\n",
    "    if not os.path.exists(DATA_FILE):\n",
    "        return tasks\n",
    "    with open(DATA_FILE, 'r') as f:\n",
    "        lines = f.readlines()\n",
    "        for line in lines:\n",
    "            parts = line.strip().split('|')\n",
    "            if len(parts) == 3:\n",
    "                task = {\n",
    "                    \"title\": parts[0],\n",
    "                    \"due_date\": parts[1],\n",
    "                    \"status\": parts[2]\n",
    "                }\n",
    "                tasks.append(task)\n",
    "    return tasks\n",
    "\n",
    "# Save all tasks to .txt\n",
    "def save_tasks(tasks):\n",
    "    with open(DATA_FILE, 'w') as f:\n",
    "        for task in tasks:\n",
    "            line = f\"{task['title']}|{task['due_date']}|{task['status']}\\n\"\n",
    "            f.write(line)\n",
    "\n",
    "# Add Task\n",
    "def add_task():\n",
    "    title = input(\"Enter task title: \")\n",
    "    due_date = input(\"Enter due date (YYYY-MM-DD): \")\n",
    "    try:\n",
    "        datetime.strptime(due_date, \"%Y-%m-%d\")\n",
    "    except ValueError:\n",
    "        print(\" Invalid date format. Use YYYY-MM-DD.\")\n",
    "        return\n",
    "    task = {\"title\": title, \"due_date\": due_date, \"status\": \"Pending\"}\n",
    "    tasks = load_tasks()\n",
    "    tasks.append(task)\n",
    "    save_tasks(tasks)\n",
    "    print(\" Task added successfully!\")\n",
    "\n",
    "# View Tasks\n",
    "def view_tasks():\n",
    "    tasks = load_tasks()\n",
    "    if not tasks:\n",
    "        print(\"No tasks found.\")\n",
    "        return\n",
    "    print(\"\\n Your Tasks:\")\n",
    "    for i, task in enumerate(tasks, start=1):\n",
    "        print(f\"\\nTask {i}\")\n",
    "        print(f\"Title    : {task['title']}\")\n",
    "        print(f\"Due Date : {task['due_date']}\")\n",
    "        print(f\"Status   : {task['status']}\")\n",
    "\n",
    "# Update Task\n",
    "def update_task():\n",
    "    tasks = load_tasks()\n",
    "    if not tasks:\n",
    "        print(\"No tasks to update.\")\n",
    "        return\n",
    "    view_tasks()\n",
    "    try:\n",
    "        index = int(input(\"Enter task number to update: \")) - 1\n",
    "        if index < 0 or index >= len(tasks):\n",
    "            print(\"Invalid task number.\")\n",
    "            return\n",
    "        print(\"Leave blank if no change.\")\n",
    "        title = input(\"New title: \")\n",
    "        due_date = input(\"New due date (YYYY-MM-DD): \")\n",
    "        status = input(\"New status (Pending/Done): \")\n",
    "\n",
    "        if title:\n",
    "            tasks[index]['title'] = title\n",
    "        if due_date:\n",
    "            try:\n",
    "                datetime.strptime(due_date, \"%Y-%m-%d\")\n",
    "                tasks[index]['due_date'] = due_date\n",
    "            except ValueError:\n",
    "                print(\" Invalid date format. Skipped date update.\")\n",
    "        if status in [\"Pending\", \"Done\"]:\n",
    "            tasks[index]['status'] = status\n",
    "\n",
    "        save_tasks(tasks)\n",
    "        print(\" Task updated successfully!\")\n",
    "    except ValueError:\n",
    "        print(\" Invalid input.\")\n",
    "\n",
    "# Delete Task\n",
    "def delete_task():\n",
    "    tasks = load_tasks()\n",
    "    if not tasks:\n",
    "        print(\"No tasks to delete.\")\n",
    "        return\n",
    "    view_tasks()\n",
    "    try:\n",
    "        index = int(input(\"Enter task number to delete: \")) - 1\n",
    "        if index < 0 or index >= len(tasks):\n",
    "            print(\"Invalid task number.\")\n",
    "            return\n",
    "        deleted = tasks.pop(index)\n",
    "        save_tasks(tasks)\n",
    "        print(f\" Deleted task: {deleted['title']}\")\n",
    "    except ValueError:\n",
    "        print(\" Invalid input.\")\n",
    "\n",
    "# Task Manager Menu\n",
    "def task_menu():\n",
    "    while True:\n",
    "        print(\"\\n=== Task Manager ===\")\n",
    "        print(\"1. Add Task\")\n",
    "        print(\"2. View Tasks\")\n",
    "        print(\"3. Update Task\")\n",
    "        print(\"4. Delete Task\")\n",
    "        print(\"5. Exit Task Manager\")\n",
    "\n",
    "        choice = input(\"Enter your choice: \")\n",
    "\n",
    "        if choice == \"1\":\n",
    "            add_task()\n",
    "        elif choice == \"2\":\n",
    "            view_tasks()\n",
    "        elif choice == \"3\":\n",
    "            update_task()\n",
    "        elif choice == \"4\":\n",
    "            delete_task()\n",
    "        elif choice == \"5\":\n",
    "            print(\"Exiting Task Manager...\")\n",
    "            break\n",
    "        else:\n",
    "            print(\"Invalid choice. Please try again.\")\n",
    "\n",
    "# Run it\n",
    "task_menu()\n"
   ]
  },
  {
   "cell_type": "code",
   "execution_count": null,
   "id": "899e29e8-55f8-4770-bcf6-1570da777a92",
   "metadata": {},
   "outputs": [],
   "source": []
  }
 ],
 "metadata": {
  "kernelspec": {
   "display_name": "Python [conda env:base] *",
   "language": "python",
   "name": "conda-base-py"
  },
  "language_info": {
   "codemirror_mode": {
    "name": "ipython",
    "version": 3
   },
   "file_extension": ".py",
   "mimetype": "text/x-python",
   "name": "python",
   "nbconvert_exporter": "python",
   "pygments_lexer": "ipython3",
   "version": "3.12.7"
  }
 },
 "nbformat": 4,
 "nbformat_minor": 5
}
